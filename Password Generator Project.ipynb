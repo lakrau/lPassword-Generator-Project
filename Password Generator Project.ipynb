{
 "cells": [
  {
   "cell_type": "markdown",
   "metadata": {},
   "source": [
    "### Password Generator Project"
   ]
  },
  {
   "cell_type": "code",
   "execution_count": 3,
   "metadata": {},
   "outputs": [
    {
     "name": "stdout",
     "output_type": "stream",
     "text": [
      "Do you want long password?:no\n",
      "ok\n",
      "Do you need short pass?:yes\n",
      "Here you go: [['K', 'G', 'V'], '@']\n"
     ]
    }
   ],
   "source": [
    "import string\n",
    "import random\n",
    "\n",
    "up_let = random.sample(string.ascii_uppercase[:26],3)\n",
    "low_let = random.sample(string.ascii_lowercase[:26],3)\n",
    "nums = random.randint(0,100000)\n",
    "symbs = random.choice(['!','@','#','$','%','^','&','*'])\n",
    "combo = random.choice([[up_let, low_let, nums, symbs]])\n",
    "\n",
    "\n",
    "long_password = []\n",
    "short_password = []\n",
    "\n",
    "for l in combo:\n",
    "    long_password.append(l)\n",
    "for s in combo:\n",
    "    short_password = short_password[:1]\n",
    "    short_password.append(s)\n",
    "    \n",
    "# long password should be at least 6 characters long    \n",
    "user = input('Do you want long password?:')\n",
    "if user == 'yes':\n",
    "    print('Here you go:', long_password)\n",
    "else:\n",
    "    print('ok')\n",
    "        \n",
    "#short password should be maximum 6 characters long  \n",
    "user = input('Do you need short pass?:')\n",
    "if user == 'yes':\n",
    "    print('Here you go:', short_password)\n",
    "else:\n",
    "    print('ok')"
   ]
  },
  {
   "cell_type": "code",
   "execution_count": null,
   "metadata": {},
   "outputs": [],
   "source": []
  }
 ],
 "metadata": {
  "kernelspec": {
   "display_name": "Python 3",
   "language": "python",
   "name": "python3"
  },
  "language_info": {
   "codemirror_mode": {
    "name": "ipython",
    "version": 3
   },
   "file_extension": ".py",
   "mimetype": "text/x-python",
   "name": "python",
   "nbconvert_exporter": "python",
   "pygments_lexer": "ipython3",
   "version": "3.7.1"
  }
 },
 "nbformat": 4,
 "nbformat_minor": 2
}
